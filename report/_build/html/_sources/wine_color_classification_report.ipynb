{
 "cells": [
  {
   "cell_type": "markdown",
   "id": "6a7b9dd1-0844-405f-b2de-9466b103d8dc",
   "metadata": {},
   "source": [
    "# A Practical Exploration of the Wine Quality Dataset\n",
    "By Jordan Cairns, Chris Gao, Yingzi Jin & Chun Li 2023-12-03"
   ]
  },
  {
   "cell_type": "code",
   "execution_count": 9,
   "metadata": {},
   "outputs": [],
   "source": [
    "import numpy as np\n",
    "import pandas as pd\n",
    "from myst_nb import glue"
   ]
  },
  {
   "cell_type": "code",
   "execution_count": 10,
   "metadata": {},
   "outputs": [
    {
     "data": {
      "application/papermill.record/text/html": "<div>\n<style scoped>\n    .dataframe tbody tr th:only-of-type {\n        vertical-align: middle;\n    }\n\n    .dataframe tbody tr th {\n        vertical-align: top;\n    }\n\n    .dataframe thead th {\n        text-align: right;\n    }\n</style>\n<table border=\"1\" class=\"dataframe\">\n  <thead>\n    <tr style=\"text-align: right;\">\n      <th></th>\n      <th>Feature Name</th>\n      <th>Coefficient</th>\n    </tr>\n  </thead>\n  <tbody>\n    <tr>\n      <th>0</th>\n      <td>fixed acidity</td>\n      <td>-0.058099</td>\n    </tr>\n    <tr>\n      <th>1</th>\n      <td>volatile acidity</td>\n      <td>-1.259050</td>\n    </tr>\n    <tr>\n      <th>2</th>\n      <td>citric acid</td>\n      <td>0.221233</td>\n    </tr>\n    <tr>\n      <th>3</th>\n      <td>residual sugar</td>\n      <td>2.503433</td>\n    </tr>\n    <tr>\n      <th>4</th>\n      <td>chlorides</td>\n      <td>-0.895879</td>\n    </tr>\n    <tr>\n      <th>5</th>\n      <td>free sulfur dioxide</td>\n      <td>-0.544393</td>\n    </tr>\n    <tr>\n      <th>6</th>\n      <td>total sulfur dioxide</td>\n      <td>2.710791</td>\n    </tr>\n    <tr>\n      <th>7</th>\n      <td>density</td>\n      <td>-4.221706</td>\n    </tr>\n    <tr>\n      <th>8</th>\n      <td>pH</td>\n      <td>-0.239053</td>\n    </tr>\n    <tr>\n      <th>9</th>\n      <td>sulphates</td>\n      <td>-0.597874</td>\n    </tr>\n    <tr>\n      <th>10</th>\n      <td>alcohol</td>\n      <td>-1.602148</td>\n    </tr>\n    <tr>\n      <th>11</th>\n      <td>quality</td>\n      <td>-0.403374</td>\n    </tr>\n  </tbody>\n</table>\n</div>",
      "application/papermill.record/text/plain": "            Feature Name  Coefficient\n0          fixed acidity    -0.058099\n1       volatile acidity    -1.259050\n2            citric acid     0.221233\n3         residual sugar     2.503433\n4              chlorides    -0.895879\n5    free sulfur dioxide    -0.544393\n6   total sulfur dioxide     2.710791\n7                density    -4.221706\n8                     pH    -0.239053\n9              sulphates    -0.597874\n10               alcohol    -1.602148\n11               quality    -0.403374"
     },
     "metadata": {
      "scrapbook": {
       "mime_prefix": "application/papermill.record/",
       "name": "lr_feature_importance_df"
      }
     },
     "output_type": "display_data"
    },
    {
     "data": {
      "application/papermill.record/text/plain": "0.9913"
     },
     "metadata": {
      "scrapbook": {
       "mime_prefix": "application/papermill.record/",
       "name": "final_test_score"
      }
     },
     "output_type": "display_data"
    },
    {
     "data": {
      "application/papermill.record/text/html": "<div>\n<style scoped>\n    .dataframe tbody tr th:only-of-type {\n        vertical-align: middle;\n    }\n\n    .dataframe tbody tr th {\n        vertical-align: top;\n    }\n\n    .dataframe thead th {\n        text-align: right;\n    }\n</style>\n<table border=\"1\" class=\"dataframe\">\n  <thead>\n    <tr style=\"text-align: right;\">\n      <th></th>\n      <th>model</th>\n      <th>test_score</th>\n      <th>train_score</th>\n    </tr>\n  </thead>\n  <tbody>\n    <tr>\n      <th>0</th>\n      <td>dummy</td>\n      <td>0.753904</td>\n      <td>0.753904</td>\n    </tr>\n    <tr>\n      <th>1</th>\n      <td>dtree</td>\n      <td>0.985485</td>\n      <td>0.999835</td>\n    </tr>\n    <tr>\n      <th>2</th>\n      <td>knn</td>\n      <td>0.993182</td>\n      <td>0.994722</td>\n    </tr>\n    <tr>\n      <th>3</th>\n      <td>svm</td>\n      <td>0.995821</td>\n      <td>0.997086</td>\n    </tr>\n    <tr>\n      <th>4</th>\n      <td>nb</td>\n      <td>0.973169</td>\n      <td>0.974983</td>\n    </tr>\n    <tr>\n      <th>5</th>\n      <td>lr</td>\n      <td>0.995382</td>\n      <td>0.995217</td>\n    </tr>\n  </tbody>\n</table>\n</div>",
      "application/papermill.record/text/plain": "   model  test_score  train_score\n0  dummy    0.753904     0.753904\n1  dtree    0.985485     0.999835\n2    knn    0.993182     0.994722\n3    svm    0.995821     0.997086\n4     nb    0.973169     0.974983\n5     lr    0.995382     0.995217"
     },
     "metadata": {
      "scrapbook": {
       "mime_prefix": "application/papermill.record/",
       "name": "model_cv_results_df"
      }
     },
     "output_type": "display_data"
    }
   ],
   "source": [
    "lr_feature_importance_df = pd.read_csv(\n",
    "    \"../results/tables/logistic_regression_feature_importance.csv\")\n",
    "glue(\"lr_feature_importance_df\", lr_feature_importance_df, display=False)  \n",
    "\n",
    "lr_test_score_df = pd.read_csv(\n",
    "    \"../results/tables/logistic_regression_test_score.csv\")\n",
    "score_value = lr_test_score_df.loc[0, 'test_score']\n",
    "rounded_score = round(score_value, 4)\n",
    "final_score = rounded_score\n",
    "glue(\"final_test_score\", final_score,display=False)\n",
    "\n",
    "model_cv_results_df = pd.read_csv(\"../results/tables/model_cv_results.csv\")\n",
    "model_cv_results_df.drop(model_cv_results_df.columns[[1, 2]], axis=1, inplace=True)\n",
    "glue(\"model_cv_results_df\", model_cv_results_df, display=False)     "
   ]
  },
  {
   "cell_type": "markdown",
   "id": "06f2eeab-bdd0-4ab3-9e92-445aa320a2d5",
   "metadata": {},
   "source": [
    "# Executive Summary"
   ]
  },
  {
   "cell_type": "markdown",
   "id": "6e804796-518a-4e59-a321-4912ed7f0900",
   "metadata": {},
   "source": [
    "Our analysis aimed to develop a predictive model to distinguish between red and white wines based on various physicochemical properties. {cite:p}`Cortez2009WineQuality` This study employed logistic regression, a model renowned for its balance between predictive power and interpretability. {cite:p}`UBCMDSSupervisedLearning2023`\n",
    "\n",
    "The regression result suggested that residual sugar and total sulfur dioxide had high positive coefficients, indicating a strong association with white wine, whereas density showed the most substantial negative impact, followed by alcohol and volatile acidity, suggesting these are key indicators of red wine.\n",
    "\n",
    "The logistic regression model not only achieved high accuracy but also provided valuable insights into the features most indicative of wine type. This model can assist vintners in quality control and classification tasks. Moreover, the interpretability of the model offers a foundation for further research into wine composition and its impact on sensory attributes. Future studies might explore more complex models or delve deeper into feature engineering to enhance predictive accuracy and understanding.\n"
   ]
  },
  {
   "cell_type": "markdown",
   "id": "9c56df3c-6df6-4bbc-b9aa-7c76fd447f1d",
   "metadata": {},
   "source": [
    "# Introduction"
   ]
  },
  {
   "cell_type": "markdown",
   "id": "3e40f11a-dc37-4257-9d0e-345558ae2014",
   "metadata": {},
   "source": [
    "In the intricate world of oenology, the distinction between red and white wines extends beyond color, embedding itself in the nuanced spectrum of their physicochemical properties. This project embarks on a data-driven journey to unravel these complexities by leveraging statistical models to classify wines as red or white based on their inherent characteristics. Utilizing a rich dataset that encapsulates key attributes like acidity, sugar content, sulfur dioxide levels, alcohol concentration, and more, we aim to build a predictive model that not only accurately classifies the wines but also sheds light on the influential factors that underpin this classification. Through this analysis, we intend to blend the art of winemaking with the precision of data science, offering insights that could prove valuable to vintners, sommeliers, and wine enthusiasts alike in understanding the subtle distinctions between these two celebrated categories of wine."
   ]
  },
  {
   "cell_type": "markdown",
   "id": "a7ba2e24-9e5d-41ad-8c1c-99270d18d833",
   "metadata": {},
   "source": [
    "# Data"
   ]
  },
  {
   "cell_type": "markdown",
   "id": "fe11e697-7cd6-4fb3-aaa1-906dcf25a113",
   "metadata": {},
   "source": [
    "The dataset utilized in our project is sourced from the UCI Machine Learning Repository, specifically focusing on red and white variants of Portuguese \"Vinho Verde\" wine​​​​. This dataset is distinguished by its emphasis on physicochemical tests to model wine quality, capturing a range of variables that reflect the sensory and chemical composition of the wine samples. Notably, it encompasses various input features like acidity, sugar content, and alcohol levels, while the output variable relates to the sensory-driven quality rating of the wines. {cite:p}`Johnson2021WineAnalysis` A unique aspect of this dataset is its exclusion of data on grape types, wine brands, or prices due to privacy and logistic constraints. This attribute frames our analysis within a context of physicochemical and sensory data, offering an opportunity to delve into wine quality assessment based on measurable attributes, free from commercial biases. The dataset's structure lends itself to both classification and regression tasks, providing a fertile ground for exploring machine learning applications in the domain of wine quality evaluation. {cite:p}`Mor2022WineQualityPrediction`"
   ]
  },
  {
   "cell_type": "markdown",
   "id": "149b1aa2-004d-44f2-9a8d-4be1784aedee",
   "metadata": {},
   "source": [
    "## Exploratory Data Analysis"
   ]
  },
  {
   "cell_type": "markdown",
   "id": "18913b9c-9607-4da3-9f8a-f25ca57bd778",
   "metadata": {},
   "source": [
    "The first step of EDA is to generate some histograms to visualize the effects of all numerical variables to the type of wines. By comparing these distributions side by side, we can pinpoint which features exhibit significant variations across the two categories, thereby informing feature selection for predictive modeling. Such visual tools are invaluable as they facilitate an intuitive understanding of complex data relationships, highlight potential factors that could influence the wine's classification, and guide subsequent analytical steps in the data science workflow.\n",
    "\n",
    "\n"
   ]
  },
  {
   "cell_type": "markdown",
   "metadata": {},
   "source": [
    "![comparitive_distribution](../results/figures/comparative_distribution.png)"
   ]
  },
  {
   "cell_type": "markdown",
   "metadata": {},
   "source": [
    "![numeric_histogram_plots](../results/figures/numeric_histogram.png)"
   ]
  },
  {
   "cell_type": "markdown",
   "id": "4c3e4586-f2eb-4010-8b4c-36cb90c4b664",
   "metadata": {},
   "source": [
    "Visually, some features do show significant differences between red and white wines and may be particularly relevant in distinguishing between the two. In particular, the following five features stand out in the histograms and could be considered significant for predicting the color of the wine.\n",
    "\n",
    "1. Fixed & Volatile Acidity: There's a noticeable difference in the distributions, with red wines generally exhibiting higher fixed and volatile acidity.\n",
    "\n",
    "2. Residual Sugar: White wines display a much higher residual sugar content, which could be a strong differentiator\n",
    "\n",
    "3. Total Sulfur Dioxide: The levels are significantly higher in white wines, suggesting this feature could be key in classification.\n",
    "\n",
    "4. Free Sulfur Dioxide: Similar to total sulfur dioxide, this feature is also markedly higher in white wines.\n",
    "\n",
    "5. pH value: The majority of red wines seem to have a higher overall pH values.\n"
   ]
  },
  {
   "cell_type": "markdown",
   "metadata": {},
   "source": [
    "![corr_plot](../results/figures/correlation_matrix_heatmap.png)"
   ]
  },
  {
   "cell_type": "markdown",
   "id": "8fae2ffa",
   "metadata": {},
   "source": [
    "The distribution of the plot also demonstrates the majority of the explainatory variables are not strongly corrlated. However, we do observe the correlations between variable pairs `free sulfur dioxide` and `total sulfur dioxide`, as well as `density` and `alcohol` are relatively high (absolute value exceeding 0.7). This might introduce difficulties to the model to estimate the relationship between each independent variable and the dependent variable independently"
   ]
  },
  {
   "cell_type": "markdown",
   "id": "7a2247c6-0367-4616-8b8c-ad6e34dcdf8e",
   "metadata": {},
   "source": [
    "## Models and Results"
   ]
  },
  {
   "cell_type": "markdown",
   "metadata": {},
   "source": [
    "```{glue:figure} model_cv_results_df\n",
    ":figwidth: 400px"
   ]
  },
  {
   "cell_type": "markdown",
   "id": "2898ca57-c54f-4bd7-9cc3-f4535415c69d",
   "metadata": {},
   "source": [
    "Upon concluding our exploratory data analysis and delving into model evaluation, the results delineate an intriguing landscape of model performance. Notably, while the Decision Tree, KNN, and RBF SVM models exhibit high accuracy, with the SVM model achieving the highest test scores, the choice of model cannot rest on accuracy alone. Logistic Regression, while marginally surpassed by SVM in test score metrics, stands out for its interpretability. This model provides not only a robust predictive performance but also the capacity to glean meaningful insights from the significance and impact of each feature, as reflected by its coefficients. In light of this, we opt for Logistic Regression, valuing the interpretative clarity it offers, which is instrumental for a nuanced understanding of the variables influencing wine classification. This strategic choice harmonizes predictive strength with explanatory depth, guiding us towards actionable intelligence over mere predictive prowess.\n",
    "The final accuracy score for our logistic regression model was {glue:}`final_test_score`\n",
    "\n",
    "To further explore the relationship between the two wines, we examined the coeffecients fit to our logistic regression model. This showed\n",
    "the marginal contribution of each feature to our model."
   ]
  },
  {
   "cell_type": "markdown",
   "metadata": {},
   "source": [
    "![wine_prediction_chart](../results/figures/predict_visualization.png)"
   ]
  },
  {
   "cell_type": "markdown",
   "metadata": {},
   "source": [
    "```{glue:figure} lr_feature_importance_df\n",
    ":figwidth: 400px"
   ]
  },
  {
   "cell_type": "markdown",
   "id": "da1bd80d-cf66-448c-aebe-bb709cd158ac",
   "metadata": {},
   "source": [
    "The coefficients obtained from the logistic regression model provide a quantifiable measure of the impact each feature has on the likelihood of a wine being classified as red or white. Features with positive coefficients, such as residual sugar and total sulfur dioxide, increase the probability of a wine being classified as white, as indicated by the model.classes_ array. Conversely, features with negative coefficients, such as alcohol, volatile acidity, chlorides, and notably density with the largest negative coefficient, are indicative of a wine being classified as red. The magnitude of these coefficients reveals the relative importance of each feature, with density and alcohol having the most substantial influence in the negative direction and residual sugar significantly increases the odds in favor of white wine. The feature 'quality' also plays a role, albeit a smaller one, in swaying the classification towards red wine. Overall, the model's coefficients provide a nuanced understanding of how each physicochemical characteristic tilts the balance in the complex interplay of factors that determine wine color in our dataset."
   ]
  },
  {
   "cell_type": "markdown",
   "id": "c276f545-7fc5-4d43-a130-41bfe2866ecb",
   "metadata": {},
   "source": [
    "# Conclusion"
   ]
  },
  {
   "cell_type": "markdown",
   "id": "b319fa17-380a-4f69-8d73-7536cf043fa3",
   "metadata": {},
   "source": [
    "The logistic regression analysis reveals expected relationships between wine characteristics and their classification as red or white. Residual sugar's positive coefficient aligns with the higher levels typically found in white wines, indicating a greater likelihood of a wine being classified as white as the sugar content increases. Similarly, the positive coefficient for sulfur dioxide corresponds with the higher concentrations in white wines. The negative coefficients for alcohol and density suggest a higher probability of wine being classified as red with increasing values, which is consistent with red wines generally having higher alcohol content. These insights highlight the intricate balance of physicochemical properties influencing wine color, reaffirming the importance of considering the context and interactions of features within the dataset when interpreting model outcomes.\n",
    "\n",
    "\n",
    "Nevertheless, it's important to remember that the signs and magnitudes of coefficients in logistic regression are influenced by the scale of the features and the correlations between them. These factors can affect the interpretability of the coefficients in complex ways, especially if there is multicollinearity in the data. Therefore, while the results are plausible and show some expected trends, any surprising findings would warrant a deeper investigation into the data and the model's behaviour. "
   ]
  },
  {
   "cell_type": "markdown",
   "id": "4c0735ff-1d8e-42a8-bbd0-f36c1ab11f91",
   "metadata": {},
   "source": [
    "# Reference"
   ]
  },
  {
   "cell_type": "markdown",
   "id": "4e75ca79",
   "metadata": {},
   "source": [
    "```{bibliography}\n",
    "```"
   ]
  }
 ],
 "metadata": {
  "kernelspec": {
   "display_name": "group_project",
   "language": "python",
   "name": "python3"
  },
  "language_info": {
   "codemirror_mode": {
    "name": "ipython",
    "version": 3
   },
   "file_extension": ".py",
   "mimetype": "text/x-python",
   "name": "python",
   "nbconvert_exporter": "python",
   "pygments_lexer": "ipython3",
   "version": "3.10.0"
  }
 },
 "nbformat": 4,
 "nbformat_minor": 5
}
